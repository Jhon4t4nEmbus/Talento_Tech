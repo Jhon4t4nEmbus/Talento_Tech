{
  "cells": [
    {
      "cell_type": "markdown",
      "metadata": {
        "id": "view-in-github",
        "colab_type": "text"
      },
      "source": [
        "<a href=\"https://colab.research.google.com/github/Jhon4t4nEmbus/Talento_Tech/blob/main/Experiencia/Ciclo_For.ipynb\" target=\"_parent\"><img src=\"https://colab.research.google.com/assets/colab-badge.svg\" alt=\"Open In Colab\"/></a>"
      ]
    },
    {
      "cell_type": "code",
      "source": [
        "# lista\n",
        "lista_frutas = [\"mango\", \"banana\", \"cuva\", \"naranja\", \"melon\"]  # lista\n",
        "lista_animales = [\"gato\", \"perro\", \"elefante\", \"tigre\", \"cebra\"]  # lista\n",
        "\n",
        "print(\"Frutas:\")\n",
        "for fruta in lista_frutas:\n",
        "    print(fruta)\n",
        "\n",
        "print(\"\\nAnimales:\")\n",
        "for animal in lista_animales:\n",
        "    print(animal)\n",
        "\n",
        "print(\"\\n\")\n",
        "\n",
        "# tupla\n",
        "tupla_verduras = (\"pimenton\", \"cebolla\", \"tomate\", \"lechuga\", \"acelga\")  # tupla\n",
        "tupla_colores = (\"negro\", \"azul\", \"verde\", \"amarillo\", \"blanco\")  # tupla\n",
        "\n",
        "print(\"Verduras:\")\n",
        "for verdura in tupla_verduras:\n",
        "    print(\"Me gusta la\", verdura)\n",
        "\n",
        "print(\"\\nColores:\")\n",
        "for color in tupla_colores:\n",
        "    print(\"Mi color preferido es\", color)\n",
        "\n",
        "print(\"\\n\")\n",
        "\n",
        "# conjunto\n",
        "conjunto_electrodomesticos = {\"Tv\", \"Computador\", \"Nevera\", \"Lavadora\", \"Ventilador\"}  # conjunto\n",
        "conjunto_paises = {\"Colombia\", \"Francia\", \"Alemania\", \"Italia\", \"Irak\"}  # conjunto\n",
        "\n",
        "print(\"Electrodomésticos:\")\n",
        "for electro in conjunto_electrodomesticos:\n",
        "    print(electro)\n",
        "\n",
        "print(\"\\nPaises:\")\n",
        "for pais in conjunto_paises:\n",
        "    print(pais)"
      ],
      "metadata": {
        "colab": {
          "base_uri": "https://localhost:8080/"
        },
        "id": "mBKpAMtd6hAg",
        "outputId": "0db656b5-cc46-4b9f-d369-4adb76ed49b5"
      },
      "execution_count": 2,
      "outputs": [
        {
          "output_type": "stream",
          "name": "stdout",
          "text": [
            "Frutas:\n",
            "mango\n",
            "banana\n",
            "cuva\n",
            "naranja\n",
            "melon\n",
            "\n",
            "Animales:\n",
            "gato\n",
            "perro\n",
            "elefante\n",
            "tigre\n",
            "cebra\n",
            "\n",
            "\n",
            "Verduras:\n",
            "Me gusta la pimenton\n",
            "Me gusta la cebolla\n",
            "Me gusta la tomate\n",
            "Me gusta la lechuga\n",
            "Me gusta la acelga\n",
            "\n",
            "Colores:\n",
            "Mi color preferido es negro\n",
            "Mi color preferido es azul\n",
            "Mi color preferido es verde\n",
            "Mi color preferido es amarillo\n",
            "Mi color preferido es blanco\n",
            "\n",
            "\n",
            "Electrodomésticos:\n",
            "Ventilador\n",
            "Lavadora\n",
            "Tv\n",
            "Computador\n",
            "Nevera\n",
            "\n",
            "Paises:\n",
            "Italia\n",
            "Alemania\n",
            "Irak\n",
            "Colombia\n",
            "Francia\n"
          ]
        }
      ]
    }
  ],
  "metadata": {
    "colab": {
      "provenance": [],
      "authorship_tag": "ABX9TyPj3yKHGrbzyOgNycUkItdS",
      "include_colab_link": true
    },
    "kernelspec": {
      "display_name": "Python 3",
      "name": "python3"
    },
    "language_info": {
      "name": "python"
    }
  },
  "nbformat": 4,
  "nbformat_minor": 0
}