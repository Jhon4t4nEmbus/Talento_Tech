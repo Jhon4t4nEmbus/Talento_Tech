{
  "nbformat": 4,
  "nbformat_minor": 0,
  "metadata": {
    "colab": {
      "provenance": [],
      "authorship_tag": "ABX9TyM23fCj1gP9Efvbem2GaRw8",
      "include_colab_link": true
    },
    "kernelspec": {
      "name": "python3",
      "display_name": "Python 3"
    },
    "language_info": {
      "name": "python"
    }
  },
  "cells": [
    {
      "cell_type": "markdown",
      "metadata": {
        "id": "view-in-github",
        "colab_type": "text"
      },
      "source": [
        "<a href=\"https://colab.research.google.com/github/Jhon4t4nEmbus/Talento_Tech/blob/main/Experiencia/El_ahorcado.ipynb\" target=\"_parent\"><img src=\"https://colab.research.google.com/assets/colab-badge.svg\" alt=\"Open In Colab\"/></a>"
      ]
    },
    {
      "cell_type": "code",
      "execution_count": 2,
      "metadata": {
        "id": "j-pE8Ls7Ckwn"
      },
      "outputs": [],
      "source": [
        "import random\n",
        "\n",
        "# --- Funciones ---\n",
        "def escoger_palabra():\n",
        "    \"\"\"Devuelve una palabra aleatoria de una lista.\"\"\"\n",
        "    palabras = [\"python\", \"ahorcado\", \"computador\", \"juego\", \"programacion\"]\n",
        "    return random.choice(palabras)\n",
        "\n",
        "def mostrar_progreso(palabra, letras_adivinadas):\n",
        "    \"\"\"Muestra la palabra con guiones bajos y letras acertadas.\"\"\"\n",
        "    progreso = \"\"\n",
        "    for letra in palabra:\n",
        "        if letra in letras_adivinadas:\n",
        "            progreso += letra + \" \"\n",
        "        else:\n",
        "            progreso += \"_ \"\n",
        "    return progreso\n",
        "\n",
        "def jugar():\n",
        "    \"\"\"Función principal que controla el juego.\"\"\"\n",
        "    palabra = escoger_palabra()\n",
        "    letras_adivinadas = []\n",
        "    intentos = 6  # número de vidas\n",
        "\n",
        "    print(\"¡Bienvenido al juego del Ahorcado!\")\n",
        "    print(mostrar_progreso(palabra, letras_adivinadas))\n",
        "\n",
        "    while intentos > 0:\n",
        "        letra = input(\"Adivina una letra: \").lower()\n",
        "\n",
        "        if letra in letras_adivinadas:\n",
        "            print(\"Ya intentaste esa letra.\")\n",
        "        elif letra in palabra:\n",
        "            letras_adivinadas.append(letra)\n",
        "            print(\"¡Bien hecho!\")\n",
        "        else:\n",
        "            intentos -= 1\n",
        "            print(f\"Letra incorrecta. Te quedan {intentos} intentos.\")\n",
        "\n",
        "        print(mostrar_progreso(palabra, letras_adivinadas))\n",
        "\n",
        "        # Condición de victoria\n",
        "        if all(letra in letras_adivinadas for letra in palabra):\n",
        "            print(\"🎉 ¡Ganaste! La palabra era:\", palabra)\n",
        "            break\n",
        "    else:\n",
        "        print(\"😢 Te quedaste sin intentos. La palabra era:\", palabra)"
      ]
    },
    {
      "cell_type": "code",
      "source": [
        "jugar()"
      ],
      "metadata": {
        "colab": {
          "base_uri": "https://localhost:8080/"
        },
        "id": "KMORGeqYC2LQ",
        "outputId": "e5231c9d-9202-432a-d63d-a24ba4edabb6"
      },
      "execution_count": 3,
      "outputs": [
        {
          "output_type": "stream",
          "name": "stdout",
          "text": [
            "¡Bienvenido al juego del Ahorcado!\n",
            "_ _ _ _ _ \n",
            "Adivina una letra: a\n",
            "Letra incorrecta. Te quedan 5 intentos.\n",
            "_ _ _ _ _ \n",
            "Adivina una letra: e\n",
            "¡Bien hecho!\n",
            "_ _ e _ _ \n",
            "Adivina una letra: u\n",
            "¡Bien hecho!\n",
            "_ u e _ _ \n",
            "Adivina una letra: x\n",
            "Letra incorrecta. Te quedan 4 intentos.\n",
            "_ u e _ _ \n",
            "Adivina una letra: g\n",
            "¡Bien hecho!\n",
            "_ u e g _ \n",
            "Adivina una letra: o\n",
            "¡Bien hecho!\n",
            "_ u e g o \n",
            "Adivina una letra: j\n",
            "¡Bien hecho!\n",
            "j u e g o \n",
            "🎉 ¡Ganaste! La palabra era: juego\n"
          ]
        }
      ]
    }
  ]
}