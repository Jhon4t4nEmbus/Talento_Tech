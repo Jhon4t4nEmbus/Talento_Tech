{
  "nbformat": 4,
  "nbformat_minor": 0,
  "metadata": {
    "colab": {
      "provenance": [],
      "authorship_tag": "ABX9TyM27E7CSXzaS6zL/PqZGYos",
      "include_colab_link": true
    },
    "kernelspec": {
      "name": "python3",
      "display_name": "Python 3"
    },
    "language_info": {
      "name": "python"
    }
  },
  "cells": [
    {
      "cell_type": "markdown",
      "metadata": {
        "id": "view-in-github",
        "colab_type": "text"
      },
      "source": [
        "<a href=\"https://colab.research.google.com/github/Jhon4t4nEmbus/Talento_Tech/blob/main/Experiencia/Ejmplos_For_and_While.ipynb\" target=\"_parent\"><img src=\"https://colab.research.google.com/assets/colab-badge.svg\" alt=\"Open In Colab\"/></a>"
      ]
    },
    {
      "cell_type": "markdown",
      "source": [
        "#Emplos para WHILE"
      ],
      "metadata": {
        "id": "nJMYe0979sRe"
      }
    },
    {
      "cell_type": "code",
      "execution_count": 1,
      "metadata": {
        "colab": {
          "base_uri": "https://localhost:8080/"
        },
        "id": "HGlfpkAd9I-h",
        "outputId": "81980634-6ec9-48d9-e7c7-a1ab3c7d08ae"
      },
      "outputs": [
        {
          "output_type": "stream",
          "name": "stdout",
          "text": [
            "1\n",
            "2\n",
            "3\n",
            "4\n",
            "5\n",
            "6\n",
            "7\n",
            "8\n",
            "9\n",
            "10\n"
          ]
        }
      ],
      "source": [
        "#Mostrar del 1 al 10 con while\n",
        "i = 1\n",
        "while i <= 10:\n",
        "    print(i)\n",
        "    i += 1\n",
        ""
      ]
    },
    {
      "cell_type": "code",
      "source": [
        "# Detenerse en el número 20\n",
        "i = 1\n",
        "while i <= 100:\n",
        "    print(i)\n",
        "    if i == 20:\n",
        "        break\n",
        "    i += 1"
      ],
      "metadata": {
        "colab": {
          "base_uri": "https://localhost:8080/"
        },
        "id": "mpn4GNCi9gZe",
        "outputId": "1f120dbb-24ac-4e2b-81ff-7db0dca65462"
      },
      "execution_count": 2,
      "outputs": [
        {
          "output_type": "stream",
          "name": "stdout",
          "text": [
            "1\n",
            "2\n",
            "3\n",
            "4\n",
            "5\n",
            "6\n",
            "7\n",
            "8\n",
            "9\n",
            "10\n",
            "11\n",
            "12\n",
            "13\n",
            "14\n",
            "15\n",
            "16\n",
            "17\n",
            "18\n",
            "19\n",
            "20\n"
          ]
        }
      ]
    },
    {
      "cell_type": "code",
      "source": [
        "#Saltar el número 5\n",
        "i = 0\n",
        "while i < 10:\n",
        "    i += 1\n",
        "    if i == 5:\n",
        "        continue\n",
        "    print(i)"
      ],
      "metadata": {
        "colab": {
          "base_uri": "https://localhost:8080/"
        },
        "id": "uG-w0TIR9kUO",
        "outputId": "ef3a41ca-b42c-48cf-bbb3-0667232014da"
      },
      "execution_count": 3,
      "outputs": [
        {
          "output_type": "stream",
          "name": "stdout",
          "text": [
            "1\n",
            "2\n",
            "3\n",
            "4\n",
            "6\n",
            "7\n",
            "8\n",
            "9\n",
            "10\n"
          ]
        }
      ]
    },
    {
      "cell_type": "code",
      "source": [
        "#Mostrar los números del 1 al 5 e imprimir mensaje\n",
        "i = 1\n",
        "while i <= 5:\n",
        "    print(i)\n",
        "    i += 1\n",
        "else:\n",
        "    print(\"Ya llegué al final\")"
      ],
      "metadata": {
        "colab": {
          "base_uri": "https://localhost:8080/"
        },
        "id": "GKIBNwDd9d82",
        "outputId": "f26bec98-8816-413c-a431-cb5dba8191f2"
      },
      "execution_count": 4,
      "outputs": [
        {
          "output_type": "stream",
          "name": "stdout",
          "text": [
            "1\n",
            "2\n",
            "3\n",
            "4\n",
            "5\n",
            "Ya llegué al final\n"
          ]
        }
      ]
    },
    {
      "cell_type": "markdown",
      "source": [
        "#Ejemplo para FOR"
      ],
      "metadata": {
        "id": "c30w4Yj59aE8"
      }
    },
    {
      "cell_type": "code",
      "source": [
        "#recorrer una lista de números y mostrarlos\n",
        "numbers = [1, 2, 3, 4, 5]\n",
        "for n in numbers:\n",
        "    print(n)"
      ],
      "metadata": {
        "colab": {
          "base_uri": "https://localhost:8080/"
        },
        "id": "2dsNaFK39Wky",
        "outputId": "05e7ca6a-136e-4085-f275-48df6f8ceee6"
      },
      "execution_count": 5,
      "outputs": [
        {
          "output_type": "stream",
          "name": "stdout",
          "text": [
            "1\n",
            "2\n",
            "3\n",
            "4\n",
            "5\n"
          ]
        }
      ]
    },
    {
      "cell_type": "code",
      "source": [
        "#recorrer letra por letra un texto.\n",
        "word = \"Python\"\n",
        "for letter in word:\n",
        "    print(letter)"
      ],
      "metadata": {
        "colab": {
          "base_uri": "https://localhost:8080/"
        },
        "id": "zONw2sGO9S-_",
        "outputId": "b2c2ee53-905d-4fa7-9d78-816e184d8cd6"
      },
      "execution_count": 6,
      "outputs": [
        {
          "output_type": "stream",
          "name": "stdout",
          "text": [
            "P\n",
            "y\n",
            "t\n",
            "h\n",
            "o\n",
            "n\n"
          ]
        }
      ]
    },
    {
      "cell_type": "code",
      "source": [
        "#detener el ciclo al encontrar un número específico.\n",
        "numbers = [10, 20, 30, 40, 50]\n",
        "for n in numbers:\n",
        "    print(n)\n",
        "    if n == 30:\n",
        "        break"
      ],
      "metadata": {
        "colab": {
          "base_uri": "https://localhost:8080/"
        },
        "id": "q3Cm8A_r9QlX",
        "outputId": "d8786058-cdee-44ab-e85c-ea501d80564b"
      },
      "execution_count": 7,
      "outputs": [
        {
          "output_type": "stream",
          "name": "stdout",
          "text": [
            "10\n",
            "20\n",
            "30\n"
          ]
        }
      ]
    },
    {
      "cell_type": "code",
      "source": [
        "#imprimir los números de una lista hasta que aparezca uno específico (pero sin imprimir ese número).\n",
        "numbers = [5, 10, 15, 20, 25]\n",
        "for n in numbers:\n",
        "    if n == 15:\n",
        "        break\n",
        "    print(n)"
      ],
      "metadata": {
        "colab": {
          "base_uri": "https://localhost:8080/"
        },
        "id": "IU5hQtnd9Knv",
        "outputId": "27cbee9f-8a7e-45f1-fb28-aa2a6f654326"
      },
      "execution_count": 8,
      "outputs": [
        {
          "output_type": "stream",
          "name": "stdout",
          "text": [
            "5\n",
            "10\n"
          ]
        }
      ]
    }
  ]
}