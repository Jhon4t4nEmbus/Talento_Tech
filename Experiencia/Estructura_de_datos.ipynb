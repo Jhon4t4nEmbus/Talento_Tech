{
  "nbformat": 4,
  "nbformat_minor": 0,
  "metadata": {
    "colab": {
      "provenance": [],
      "authorship_tag": "ABX9TyPIJCWNxPDWujf1lS+7ZFt/",
      "include_colab_link": true
    },
    "kernelspec": {
      "name": "python3",
      "display_name": "Python 3"
    },
    "language_info": {
      "name": "python"
    }
  },
  "cells": [
    {
      "cell_type": "markdown",
      "metadata": {
        "id": "view-in-github",
        "colab_type": "text"
      },
      "source": [
        "<a href=\"https://colab.research.google.com/github/Jhon4t4nEmbus/Talento_Tech/blob/main/Experiencia/Estructura_de_datos.ipynb\" target=\"_parent\"><img src=\"https://colab.research.google.com/assets/colab-badge.svg\" alt=\"Open In Colab\"/></a>"
      ]
    },
    {
      "cell_type": "code",
      "execution_count": 2,
      "metadata": {
        "colab": {
          "base_uri": "https://localhost:8080/"
        },
        "id": "NlhrWPoE7kB7",
        "outputId": "a52f3044-b13a-4e4e-f7d9-73469d4439fa"
      },
      "outputs": [
        {
          "output_type": "stream",
          "name": "stdout",
          "text": [
            "['mango', 'banana', 'cuva', 'naranja', 'melon']\n",
            "['gato', 'perro', 'elefante', 'tigre', 'cebra'] \n",
            "\n",
            "('pimenton', 'cebolla', 'tomate', 'lechuga', 'acelga')\n",
            "('negro', 'azul', 'verde', 'amarillo', 'blanco') \n",
            "\n",
            "{'Tv', 'Nevera', 'Computador', 'Lavadora', 'Ventilador'}\n",
            "{'Alemania', 'Colombia', 'Francia', 'Irak', 'Italia'} \n",
            "\n",
            "{'mesa': 'mueble', 'perro': 'animal', 'rosa': 'flor', 'avion': 'transporte'}\n",
            "{'lapiz': 'util escolar', 'piña': 'fruta', 'guitarra': 'instrumento', 'sol': 'astro'} \n",
            "\n",
            "{'Nevera', 'Colombia', 'Computador', 'Lavadora', 'Italia', 'Tv', 'Alemania', 'Francia', 'Irak', 'Ventilador'} \n",
            "\n",
            "{'Nevera', 'Colombia', 'Computador', 'Lavadora', 'Italia', 'Tv', 'Alemania', 'Francia', 'Irak', 'Ventilador'} \n",
            "\n",
            "set() \n",
            "\n",
            "{'Nevera', 'Computador', 'Lavadora', 'Tv', 'Ventilador'} \n",
            "\n",
            "{'Colombia', 'Lavadora', 'Italia', 'Alemania', 'Irak', 'Nevera', 'Computador', 'Tv', 'Francia', 'Ventilador'} \n",
            "\n",
            "{'Colombia', 'Italia', 'Alemania', 'Francia', 'Irak'}\n",
            "{'Nevera', 'Computador', 'Lavadora', 'Tv', 'Ventilador'} \n",
            "\n"
          ]
        }
      ],
      "source": [
        "#lista\n",
        "lista_frutas = [\"mango\", \"banana\", \"cuva\", \"naranja\", \"melon\"]  # lista\n",
        "lista_animales = [\"gato\", \"perro\", \"elefante\", \"tigre\", \"cebra\"]  # lista\n",
        "print(lista_frutas)\n",
        "print(lista_animales, \"\\n\")\n",
        "\n",
        "#tupla\n",
        "tupla_verduras = (\"pimenton\", \"cebolla\", \"tomate\", \"lechuga\", \"acelga\")  # tupla\n",
        "tupla_colores = (\"negro\", \"azul\", \"verde\", \"amarillo\", \"blanco\")  # tupla\n",
        "print(tupla_verduras)\n",
        "print(tupla_colores, \"\\n\")\n",
        "\n",
        "#conjunto\n",
        "conjunto_electrodomesticos = {\"Tv\", \"Computador\", \"Nevera\", \"Lavadora\", \"Ventilador\"}  # conjunto\n",
        "conjunto_paises = {\"Colombia\", \"Francia\", \"Alemania\", \"Italia\", \"Irak\"}  # conjunto\n",
        "print(conjunto_electrodomesticos)\n",
        "print(conjunto_paises, \"\\n\")\n",
        "\n",
        "#diccionario\n",
        "d1={\"mesa\":\"mueble\", \"perro\":\"animal\", \"rosa\":\"flor\",\"avion\":\"transporte\"} #diccionario\n",
        "d2={\"lapiz\":\"util escolar\", \"piña\":\"fruta\", \"guitarra\":\"instrumento\",\"sol\":\"astro\"}#diccionario\n",
        "print(d1)\n",
        "print(d2, \"\\n\")\n",
        "\n",
        "#Operaciones con Conjuntos\n",
        "conjunto_universal = conjunto_electrodomesticos.union(conjunto_paises)\n",
        "print(conjunto_universal, \"\\n\")\n",
        "\n",
        "#union\n",
        "union = conjunto_electrodomesticos.union(conjunto_paises)\n",
        "print(union, \"\\n\")\n",
        "\n",
        "#interseccion\n",
        "interseccion = conjunto_electrodomesticos.intersection(conjunto_paises)\n",
        "print(interseccion, \"\\n\")\n",
        "\n",
        "#diferencia\n",
        "diferencia = conjunto_electrodomesticos.difference(conjunto_paises)\n",
        "print(diferencia, \"\\n\")\n",
        "\n",
        "#diferencia_simetricas\n",
        "diferencia_simetricas = conjunto_electrodomesticos.symmetric_difference(conjunto_paises)\n",
        "print(diferencia_simetricas, \"\\n\")\n",
        "\n",
        "#complemento\n",
        "complemento_electrodomesticos = conjunto_universal.difference(conjunto_electrodomesticos)\n",
        "print(complemento_electrodomesticos)\n",
        "complemento_paises = conjunto_universal.difference(conjunto_paises)\n",
        "print(complemento_paises, \"\\n\")"
      ]
    }
  ]
}