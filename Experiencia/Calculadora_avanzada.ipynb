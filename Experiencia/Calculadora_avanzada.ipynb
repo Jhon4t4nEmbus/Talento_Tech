{
  "nbformat": 4,
  "nbformat_minor": 0,
  "metadata": {
    "colab": {
      "provenance": [],
      "authorship_tag": "ABX9TyOq0reWvPfUFCSvo9ICZffP",
      "include_colab_link": true
    },
    "kernelspec": {
      "name": "python3",
      "display_name": "Python 3"
    },
    "language_info": {
      "name": "python"
    }
  },
  "cells": [
    {
      "cell_type": "markdown",
      "metadata": {
        "id": "view-in-github",
        "colab_type": "text"
      },
      "source": [
        "<a href=\"https://colab.research.google.com/github/Jhon4t4nEmbus/Talento_Tech/blob/main/Experiencia/Calculadora_avanzada.ipynb\" target=\"_parent\"><img src=\"https://colab.research.google.com/assets/colab-badge.svg\" alt=\"Open In Colab\"/></a>"
      ]
    },
    {
      "cell_type": "code",
      "source": [
        "#Importando la libreria/biblioteca de matemáticas de Python:\n",
        "import math\n",
        "\n",
        "#DEFINICION DE LAS FUNCIONES:\n",
        "def mostrar_titulo():\n",
        "  print('Calculadora Sencilla (+,-,*,/)')\n",
        "\n",
        "\n",
        "def mostrar_menu():\n",
        "  print()\n",
        "  print(\"MENU:\")\n",
        "  print(\"1: Sumar (+)\")\n",
        "  print(\"2: Restar (-)\")\n",
        "  print(\"3: Multiplicar (*)\")\n",
        "  print(\"4: Dividir (/)\")\n",
        "  print(\"5: Logaritmo (log10)\")\n",
        "  print(\"6: Coseno (cos)\")\n",
        "  print(\"7: Potenciacion\")\n",
        "  print(\"8: Radicacion\")\n",
        "  print(\"9: sin\")\n",
        "  print(\"10: tan\")\n",
        "  print()\n",
        "\n",
        "\n",
        "def ingresar_datos():\n",
        "  opcion=input(\"Ingrese la opción deseada del menú: \") # la opción se guarda como cadena\n",
        "  numero_uno=float(input('Ingrese el primer número de la operación:'))# guarda como flotante (número real)\n",
        "  numero_dos=float(input('Ingrese el segundo número de la operación:'))# guarda como flotante (número real)\n",
        "  return opcion,numero_uno,numero_dos\n",
        "\n",
        "\n",
        "#POR FACILIDAD, LAS 7 FUNCIONES SIGUIENTES TIENEN ENTRADAS Y SALIDAS\n",
        "def calcular_suma(numero_uno,numero_dos):\n",
        "  suma=numero_uno+numero_dos\n",
        "  return suma\n",
        "\n",
        "def calcular_resta(numero_uno,numero_dos):\n",
        "  return numero_uno-numero_dos\n",
        "\n",
        "def calcular_multiplicacion(numero_uno,numero_dos):\n",
        "  return numero_uno*numero_dos\n",
        "\n",
        "def calcular_division(numero_uno,numero_dos):\n",
        "  return numero_uno/numero_dos\n",
        "\n",
        "def calcular_logaritmo_base10(numero):#x=numero (uno,dos)\n",
        "  #aquí uso la función logaritmo que está dentro de math\n",
        "  logaritmo=math.log10(numero)#x=numero\n",
        "  return logaritmo\n",
        "\n",
        "def calcular_coseno(angulo_radianes):#x=numero (uno,dos): se debe asociar con un angulo que se toma por defecto en radianes (Si está en grados, debe convertirse a radianes=angulo*3.1416/180)\n",
        "  #aquí uso la función coseno que está dentro de math\n",
        "  coseno=math.cos(angulo_radianes)#x=numero (angulo_radianes)\n",
        "  return coseno\n",
        "\n",
        "def calcular_potenciacion(base, exponente):\n",
        "  potenciacion = base ** exponente\n",
        "  return potenciacion\n",
        "\n",
        "\n",
        "def calcular_radicacion(numero, indice_raiz):\n",
        "    if indice_raiz == 0:\n",
        "        return \"Error: No se puede calcular raíz con índice 0\"\n",
        "    return numero ** (1 / indice_raiz)\n",
        "\n",
        "def calcular_seno(angulo_radianes):\n",
        "    return math.sin(angulo_radianes)\n",
        "\n",
        "def calcular_tangente(angulo_radianes):\n",
        "    return math.tan(angulo_radianes)\n",
        "\n",
        "def procesar_y_mostrar_operacion(opcion, numero_uno, numero_dos):\n",
        "    if opcion == '1' or opcion == '+' or opcion.lower() == 'sumar':\n",
        "        print(\"Vamos a sumar(+) los dos valores ingresados:\")\n",
        "        resultado = calcular_suma(numero_uno, numero_dos)\n",
        "        print('La suma es:', resultado)\n",
        "    if opcion == '2' or opcion == '-' or opcion.lower() == 'restar':\n",
        "        print(\"Vamos a restar(-) los dos valores ingresados:\\n\")\n",
        "        resultado = calcular_resta(numero_uno, numero_dos)\n",
        "        print(\"Resultado=\", resultado)\n",
        "    if opcion == '3' or opcion == '*' or opcion.lower() == 'multiplicar':\n",
        "        print(\"Vamos a multiplicar(*) los dos valores ingresados:\\n\")\n",
        "        resultado = calcular_multiplicacion(numero_uno, numero_dos)\n",
        "        print(\"Resultado=\", resultado)\n",
        "    if opcion == '4' or opcion == '/' or opcion.lower() == 'dividir':\n",
        "        print(\"Vamos a dividir(/) los dos valores ingresados:\\n\")\n",
        "        if numero_dos != 0:\n",
        "            resultado = calcular_division(numero_uno, numero_dos)\n",
        "            print(\"Resultado=\", resultado)\n",
        "        else:\n",
        "            print(\"¡No es posible dividir entre cero!\")\n",
        "    if opcion == '5' or opcion.lower() == 'log10' or opcion.lower() == 'logaritmo':\n",
        "        print(\"Vamos a calcular el logaritmo (log10) de los dos valores ingresados:\\n\")\n",
        "        resultado1 = calcular_logaritmo_base10(numero_uno)\n",
        "        resultado2 = calcular_logaritmo_base10(numero_dos)\n",
        "        print(\"Resultado1=\", resultado1)\n",
        "        print(\"Resultado2=\", resultado2)\n",
        "    if opcion == '6' or opcion.lower() == 'cos' or opcion.lower() == 'coseno':\n",
        "        print(\"Vamos a calcular el coseno (cos) de los dos valores ingresados:\\n\")\n",
        "        resultado1 = calcular_coseno(numero_uno)\n",
        "        resultado2 = calcular_coseno(numero_dos)\n",
        "        print(\"Resultado1=\", resultado1)\n",
        "        print(\"Resultado2=\", resultado2)\n",
        "    if opcion == '7' or opcion.lower() == 'potenciacion':\n",
        "        print(\"Vamos a calcular la potenciación:\\n\")\n",
        "        resultado = calcular_potenciacion(numero_uno, numero_dos)\n",
        "        print(\"Resultado=\", resultado)\n",
        "    if opcion == '8' or opcion.lower() == 'radicacion':\n",
        "        print(\"Vamos a calcular la radicación:\\n\")\n",
        "        resultado = calcular_radicacion(numero_uno, numero_dos)\n",
        "        print(\"Resultado=\", resultado)\n",
        "    if opcion == '9' or opcion.lower() == 'sin':\n",
        "        print(\"Vamos a calcular el seno (sin) de los dos valores ingresados:\\n\")\n",
        "        resultado1 = calcular_seno(numero_uno)\n",
        "        resultado2 = calcular_seno(numero_dos)\n",
        "        print(\"Resultado1=\", resultado1)\n",
        "        print(\"Resultado2=\", resultado2)\n",
        "    if opcion == '10' or opcion.lower() == 'tan':\n",
        "        print(\"Vamos a calcular la tangente (tan) de los dos valores ingresados:\\n\")\n",
        "        resultado1 = calcular_tangente(numero_uno)\n",
        "        resultado2 = calcular_tangente(numero_dos)\n",
        "        print(\"Resultado1=\", resultado1)\n",
        "        print(\"Resultado2=\", resultado2)\n",
        "\n",
        "def llamar_funciones():\n",
        "  mostrar_titulo()\n",
        "  mostrar_menu()\n",
        "  opcion,numero_uno,numero_dos=ingresar_datos()\n",
        "  procesar_y_mostrar_operacion(opcion,numero_uno,numero_dos)\n"
      ],
      "metadata": {
        "id": "VUyQkVuk_Kps"
      },
      "execution_count": 4,
      "outputs": []
    },
    {
      "cell_type": "markdown",
      "source": [
        "# Ejecución Programa"
      ],
      "metadata": {
        "id": "LbwfbgFI_xu2"
      }
    },
    {
      "cell_type": "code",
      "source": [
        "llamar_funciones()"
      ],
      "metadata": {
        "colab": {
          "base_uri": "https://localhost:8080/"
        },
        "id": "IijzarHL_nZo",
        "outputId": "cba9177d-95ba-4a13-fc87-f19af5c3253d"
      },
      "execution_count": 2,
      "outputs": [
        {
          "output_type": "stream",
          "name": "stdout",
          "text": [
            "Calculadora Sencilla (+,-,*,/)\n",
            "\n",
            "MENU:\n",
            "1: Sumar (+)\n",
            "2: Restar (-)\n",
            "3: Multiplicar (*)\n",
            "4: Dividir (/)\n",
            "5: Logaritmo (log10)\n",
            "6: Coseno (cos)\n",
            "7: Potenciacion\n",
            "8: Radicacion\n",
            "9: sin\n",
            "10: tan\n",
            "\n",
            "Ingrese la opción deseada del menú: 1\n",
            "Ingrese el primer número de la operación:3\n",
            "Ingrese el segundo número de la operación:8\n",
            "Vamos a sumar(+) los dos valores ingresados:\n",
            "La suma es: 11.0\n"
          ]
        }
      ]
    },
    {
      "cell_type": "code",
      "source": [
        "llamar_funciones()"
      ],
      "metadata": {
        "colab": {
          "base_uri": "https://localhost:8080/"
        },
        "id": "5P2aQDnn_4a-",
        "outputId": "028130aa-7fa3-4c40-aa9b-969bb5f1310f"
      },
      "execution_count": 3,
      "outputs": [
        {
          "output_type": "stream",
          "name": "stdout",
          "text": [
            "Calculadora Sencilla (+,-,*,/)\n",
            "\n",
            "MENU:\n",
            "1: Sumar (+)\n",
            "2: Restar (-)\n",
            "3: Multiplicar (*)\n",
            "4: Dividir (/)\n",
            "5: Logaritmo (log10)\n",
            "6: Coseno (cos)\n",
            "7: Potenciacion\n",
            "8: Radicacion\n",
            "9: sin\n",
            "10: tan\n",
            "\n",
            "Ingrese la opción deseada del menú: 2\n",
            "Ingrese el primer número de la operación:30\n",
            "Ingrese el segundo número de la operación:14\n",
            "Vamos a restar(-) los dos valores ingresados:\n",
            "\n",
            "Resultado= 16.0\n"
          ]
        }
      ]
    },
    {
      "cell_type": "code",
      "source": [
        "llamar_funciones()"
      ],
      "metadata": {
        "colab": {
          "base_uri": "https://localhost:8080/"
        },
        "id": "hEEoTGMAANn_",
        "outputId": "3e176fc8-7860-450b-99f2-88e3ca5728fb"
      },
      "execution_count": 6,
      "outputs": [
        {
          "output_type": "stream",
          "name": "stdout",
          "text": [
            "Calculadora Sencilla (+,-,*,/)\n",
            "\n",
            "MENU:\n",
            "1: Sumar (+)\n",
            "2: Restar (-)\n",
            "3: Multiplicar (*)\n",
            "4: Dividir (/)\n",
            "5: Logaritmo (log10)\n",
            "6: Coseno (cos)\n",
            "7: Potenciacion\n",
            "8: Radicacion\n",
            "9: sin\n",
            "10: tan\n",
            "\n",
            "Ingrese la opción deseada del menú: 3\n",
            "Ingrese el primer número de la operación:3\n",
            "Ingrese el segundo número de la operación:3\n",
            "Vamos a multiplicar(*) los dos valores ingresados:\n",
            "\n",
            "Resultado= 9.0\n"
          ]
        }
      ]
    },
    {
      "cell_type": "code",
      "source": [
        "llamar_funciones()"
      ],
      "metadata": {
        "colab": {
          "base_uri": "https://localhost:8080/"
        },
        "id": "r5ZM6JEGAZQf",
        "outputId": "ceaee9cf-bc89-4928-b1c3-b7bab1339e2e"
      },
      "execution_count": 7,
      "outputs": [
        {
          "output_type": "stream",
          "name": "stdout",
          "text": [
            "Calculadora Sencilla (+,-,*,/)\n",
            "\n",
            "MENU:\n",
            "1: Sumar (+)\n",
            "2: Restar (-)\n",
            "3: Multiplicar (*)\n",
            "4: Dividir (/)\n",
            "5: Logaritmo (log10)\n",
            "6: Coseno (cos)\n",
            "7: Potenciacion\n",
            "8: Radicacion\n",
            "9: sin\n",
            "10: tan\n",
            "\n",
            "Ingrese la opción deseada del menú: 10\n",
            "Ingrese el primer número de la operación:34\n",
            "Ingrese el segundo número de la operación:45\n",
            "Vamos a calcular la tangente (tan) de los dos valores ingresados:\n",
            "\n",
            "Resultado1= -0.6234989627162255\n",
            "Resultado2= 1.6197751905438615\n"
          ]
        }
      ]
    }
  ]
}