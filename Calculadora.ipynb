{
  "cells": [
    {
      "cell_type": "markdown",
      "metadata": {
        "id": "view-in-github",
        "colab_type": "text"
      },
      "source": [
        "<a href=\"https://colab.research.google.com/github/Jhon4t4nEmbus/Talento_Tech/blob/main/Calculadora.ipynb\" target=\"_parent\"><img src=\"https://colab.research.google.com/assets/colab-badge.svg\" alt=\"Open In Colab\"/></a>"
      ]
    },
    {
      "cell_type": "markdown",
      "metadata": {
        "id": "PFJSUok8xkBH"
      },
      "source": [
        "#CALCULADORA"
      ]
    },
    {
      "cell_type": "code",
      "execution_count": null,
      "metadata": {
        "colab": {
          "background_save": true,
          "base_uri": "https://localhost:8080/"
        },
        "id": "opNBPjRJxnPv",
        "outputId": "24caebed-9573-4fec-b392-25b93e371ab0"
      },
      "outputs": [
        {
          "metadata": {
            "tags": null
          },
          "name": "stdout",
          "output_type": "stream",
          "text": [
            "Ejemplo calculadora sencilla\n",
            "\n",
            "MENU:\n",
            "1: Sumar\n",
            "2: -\n",
            "3: *\n",
            "4: Dividir (/)\n",
            "5: Potenciación (pop)\n",
            "6: Radicando (rad)\n",
            "7: Logaritmo (log2)\n",
            "\n"
          ]
        }
      ],
      "source": [
        "\n",
        "print(\"Ejemplo calculadora sencilla\")\n",
        "print()\n",
        "#MENU:\n",
        "print(\"MENU:\")\n",
        "print(\"1: Sumar\")\n",
        "#print(\"1: +\")\n",
        "print(\"2: -\")\n",
        "print(\"3: *\")\n",
        "print(\"4: Dividir (/)\")\n",
        "print(\"5: Potenciación (pop)\")\n",
        "print(\"6: Radicando (rad)\")\n",
        "print(\"7: Logaritmo (log2)\")\n",
        "print()\n",
        "#Ingreso de datos:\n",
        "opcion=input(\"Ingrese la opción deseada del menú: \") # la opción se guarda como cadena\n",
        "\n",
        "#Operaciones\n",
        "if opcion=='1':\n",
        "  numero_uno=float(input(\"Ingrese el primer valor de la operación: \"))# Guarda como flotante (numero real)\n",
        "  numero_dos=float(input(\"Ingrese el segundo valor de la operación: \"))\n",
        "  print(\"Vamos a sumar(+) los dos valores ingresados:\")\n",
        "  print('La suma es:',numero_uno+numero_dos)\n",
        "if opcion=='2':\n",
        "  numero_uno=float(input(\"Ingrese el primer valor de la operación: \"))# Guarda como flotante (numero real)\n",
        "  numero_dos=float(input(\"Ingrese el segundo valor de la operación: \"))\n",
        "  print(\"Vamos a restar(-) los dos valores ingresados:\\n\")\n",
        "  resta=numero_uno-numero_dos\n",
        "  print(\"Resultado=\",resta)\n",
        "if opcion=='3':\n",
        "  numero_uno=float(input(\"Ingrese el primer valor de la operación: \"))# Guarda como flotante (numero real)\n",
        "  numero_dos=float(input(\"Ingrese el segundo valor de la operación: \"))\n",
        "  print(\"Vamos a multiplicar(*) los dos valores ingresados:\\n\")\n",
        "  #print(f'{numero_uno}*{numero_dos}={numero_uno*numero_dos}')\n",
        "  mult=numero_uno*numero_dos\n",
        "  print(f\"{numero_uno}*{numero_dos}={mult}\")\n",
        "if opcion=='4'or opcion=='/' or opcion=='Dividir':\n",
        "  numero_uno=float(input(\"Ingrese el primer valor de la operación: \"))# Guarda como flotante (numero real)\n",
        "  numero_dos=float(input(\"Ingrese el segundo valor de la operación: \"))\n",
        "  print(\"Vamos a dividir(/) los dos valores ingresados:\\n\")\n",
        "  #VALIDANDO EL DENOMINADOR (debe ser diferente de cero)\n",
        "  if numero_dos!=0:\n",
        "    print(numero_uno/numero_dos)\n",
        "  else:\n",
        "    print(\"¡No es posible dividir entre cero!\")\n",
        "if opcion=='5':\n",
        "    base=float(input(\"Ingrese la base de la operación: \"))\n",
        "    exponente=float(input(\"Ingrese el exponente de la operación: \"))\n",
        "    print(\"Vamos a potenciar (pop) los dos valores ingresados:\\n\")\n",
        "    potencia=base**exponente\n",
        "    print(potencia)\n",
        "if opcion=='6':\n",
        "  radicando=float(input(\"Ingrese el radicando de la operación: \"))\n",
        "  indice=float(input(\"Ingrese el indice de la operación: \"))\n",
        "  print(\"Vamos a calcular la Raiz:\\n\")\n",
        "  Raiz=radicando**(1/indice)\n",
        "  print(Raiz)\n",
        "if opcion=='7':\n",
        "  numero=float(input(\"Ingrese el numero logaritmico: \"))\n",
        "  print(\"Vamos a calcular el Logaritmo:\\n\")\n",
        "  log=math.log2(numero)\n",
        "  print(log)\n",
        "\n",
        "\n",
        "\n",
        "\n"
      ]
    }
  ],
  "metadata": {
    "colab": {
      "provenance": [],
      "toc_visible": true,
      "authorship_tag": "ABX9TyM1tnDqm51NXqbedNJuaKyA",
      "include_colab_link": true
    },
    "kernelspec": {
      "display_name": "Python 3",
      "name": "python3"
    },
    "language_info": {
      "name": "python"
    }
  },
  "nbformat": 4,
  "nbformat_minor": 0
}